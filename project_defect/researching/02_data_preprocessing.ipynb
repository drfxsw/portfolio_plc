{
 "cells": [
  {
   "cell_type": "code",
   "execution_count": 3,
   "id": "9202e1d8",
   "metadata": {},
   "outputs": [
    {
     "name": "stdout",
     "output_type": "stream",
     "text": [
      "샘플: 1,567개\n",
      "특성: 592개\n",
      "\n",
      "타겟 분포:\n",
      "Pass/Fail\n",
      "-1    1463\n",
      " 1     104\n",
      "Name: count, dtype: int64\n"
     ]
    }
   ],
   "source": [
    "import pandas as pd\n",
    "import numpy as np\n",
    "from sklearn.model_selection import train_test_split\n",
    "from sklearn.preprocessing import StandardScaler\n",
    "import pickle\n",
    "import os\n",
    "import warnings\n",
    "warnings.filterwarnings('ignore')\n",
    "\n",
    "# 1. 데이터 불러오기\n",
    "df = pd.read_csv('../data/secom.csv')\n",
    "\n",
    "print(f\"샘플: {df.shape[0]:,}개\")\n",
    "print(f\"특성: {df.shape[1]:,}개\")\n",
    "\n",
    "# 타겟 확인\n",
    "target_col = 'Pass/Fail'\n",
    "print(f\"\\n타겟 분포:\")\n",
    "print(df[target_col].value_counts())"
   ]
  },
  {
   "cell_type": "code",
   "execution_count": 2,
   "id": "240f671a",
   "metadata": {},
   "outputs": [
    {
     "name": "stdout",
     "output_type": "stream",
     "text": [
      "\n",
      "최종 특성 개수: 594개\n",
      "\n",
      "특성 개수: 594개\n"
     ]
    }
   ],
   "source": [
    "# 2. 타겟 변환 및 특성 분리\n",
    "\n",
    "# 타겟 변수 변환\n",
    "Y = df[target_col].map({-1: 0, 1: 1})  # -1: 정상 → 0, 1: 불량 → 1\n",
    "\n",
    "# 특성 변수 분리\n",
    "X = df.drop(columns=[target_col])\n",
    "\n",
    "# Time 컬럼 datetime 변환 및 Feature Engineering\n",
    "X['Time'] = pd.to_datetime(X['Time'])\n",
    "\n",
    "# 시간 관련 특성 생성\n",
    "X['hour'] = X['Time'].dt.hour  # 시간대 (0-23)\n",
    "X['dayofweek'] = X['Time'].dt.dayofweek  # 요일 (0=월요일)\n",
    "X['day'] = X['Time'].dt.day  # 날짜\n",
    "X['time_gap'] = X['Time'].diff().dt.total_seconds().fillna(0)  # 측정 간격(초)\n",
    "\n",
    "# Time 원본 컬럼 제거 (datetime은 모델에 못 넣음)\n",
    "X = X.drop(columns=['Time'])\n",
    "\n",
    "# 숫자형만 선택\n",
    "X = X.select_dtypes(include=[np.number])\n",
    "\n",
    "print(f\"\\n특성 개수: {X.shape[1]}개\")"
   ]
  },
  {
   "cell_type": "code",
   "execution_count": 3,
   "id": "15fcea3b",
   "metadata": {},
   "outputs": [
    {
     "name": "stdout",
     "output_type": "stream",
     "text": [
      "\n",
      "결측치 개수 (처리 전): 41951\n",
      "결측치 비율 (처리 전): 4.51%\n",
      "\n",
      "결측치 개수 (처리 후): 0\n"
     ]
    }
   ],
   "source": [
    "# 3. 결측치 처리\n",
    "\n",
    "# 결측치 확인\n",
    "missing_before = X.isnull().sum().sum()\n",
    "missing_pct = missing_before / (X.shape[0] * X.shape[1]) * 100\n",
    "print(f\"\\n결측치 개수 (처리 전): {missing_before}\")\n",
    "print(f\"결측치 비율 (처리 전): {missing_pct:.2f}%\")\n",
    "\n",
    "# 중앙값으로 결측치 대체\n",
    "X_filled = X.fillna(X.median())\n",
    "\n",
    "# 결측치 확인 (처리 후)\n",
    "missing_after = X_filled.isnull().sum().sum()\n",
    "print(f\"\\n결측치 개수 (처리 후): {missing_after}\")"
   ]
  },
  {
   "cell_type": "code",
   "execution_count": 4,
   "id": "2c339c82",
   "metadata": {},
   "outputs": [
    {
     "name": "stdout",
     "output_type": "stream",
     "text": [
      "\n",
      "상수 특성 개수: 116개\n",
      "상수 특성 제거 후 특성 개수: 478개\n"
     ]
    }
   ],
   "source": [
    "# 4. 상수 특성 제거\n",
    "\n",
    "# 상수 특성 확인\n",
    "constant_features = []\n",
    "for col in X_filled.columns:\n",
    "    if X_filled[col].nunique() <= 1:\n",
    "        constant_features.append(col)\n",
    "print(f\"\\n상수 특성 개수: {len(constant_features)}개\")\n",
    "\n",
    "# 상수 특성 제거\n",
    "X_cleaned = X_filled.drop(columns=constant_features)\n",
    "print(f\"상수 특성 제거 후 특성 개수: {X_cleaned.shape[1]}개\")"
   ]
  },
  {
   "cell_type": "code",
   "execution_count": 5,
   "id": "da4d1e84",
   "metadata": {},
   "outputs": [
    {
     "name": "stdout",
     "output_type": "stream",
     "text": [
      "평균: [3014.44155073 2495.8661104  2200.55195801 1395.38347409    4.17128054]\n",
      "표준편차: [ 73.48084148  80.22814345  29.38097315 439.83732987  56.10372105]\n",
      "\n",
      "스케일링 후 평균: [ 1.62332035e-15 -5.07372631e-15 -5.71336214e-15 -1.26963603e-16\n",
      "  0.00000000e+00]\n",
      "스케일링 후 표준편차: [1.00031923 1.00031923 1.00031923 1.00031923 1.00031923]\n"
     ]
    }
   ],
   "source": [
    "# 5. 스케일링\n",
    "\n",
    "# 스케일링 전 데이터 확인\n",
    "print(f'평균: {X_cleaned.mean()[:5].values}')\n",
    "print(f'표준편차: {X_cleaned.std()[:5].values}')\n",
    "\n",
    "scaler = StandardScaler()\n",
    "X_scaled = scaler.fit_transform(X_cleaned)\n",
    "\n",
    "# df로 변환\n",
    "X_scaled = pd.DataFrame(X_scaled, columns=X_cleaned.columns)\n",
    "\n",
    "# 스케일링 후 데이터 확인\n",
    "print(f'\\n스케일링 후 평균: {X_scaled.mean()[:5].values}')\n",
    "print(f'스케일링 후 표준편차: {X_scaled.std()[:5].values}')"
   ]
  },
  {
   "cell_type": "code",
   "execution_count": 6,
   "id": "1ec3ae48",
   "metadata": {},
   "outputs": [
    {
     "name": "stdout",
     "output_type": "stream",
     "text": [
      "X_train shape: (1253, 478)\n",
      "Y_train shape: (1253,)\n",
      "정상: 1170개, 불량: 83개\n",
      "불량 비율: 6.62%\n",
      "\n",
      "X_test shape: (314, 478)\n",
      "Y_test shape: (314,)\n",
      "정상: 293개, 불량: 21개\n",
      "불량 비율: 6.69%\n"
     ]
    }
   ],
   "source": [
    "# 6. 데이터 분할 (Train / Test)\n",
    "\n",
    "# 80:20 비율로 분할. stratifiy 옵션으로 클래스 비율 유지\n",
    "X_train, X_test, y_train, y_test = train_test_split(\n",
    "    X_scaled, Y, test_size=0.2, random_state=42, stratify=Y\n",
    ")\n",
    "\n",
    "# train\n",
    "print(f'X_train shape: {X_train.shape}')\n",
    "print(f'Y_train shape: {y_train.shape}')\n",
    "print(f'정상: {(y_train == 0).sum()}개, 불량: {(y_train == 1).sum()}개')\n",
    "print(f'불량 비율: {(y_train == 1).mean() * 100:.2f}%')\n",
    "\n",
    "# test\n",
    "print(f'\\nX_test shape: {X_test.shape}')\n",
    "print(f'Y_test shape: {y_test.shape}')\n",
    "print(f'정상: {(y_test == 0).sum()}개, 불량: {(y_test == 1).sum()}개')\n",
    "print(f'불량 비율: {(y_test == 1).mean() * 100:.2f}%')"
   ]
  },
  {
   "cell_type": "code",
   "execution_count": 9,
   "id": "839ff1e4",
   "metadata": {},
   "outputs": [
    {
     "name": "stdout",
     "output_type": "stream",
     "text": [
      "\n",
      "데이터 저장 완료\n",
      "X_train shape: (1253, 478)\n",
      "X_test shape: (314, 478)\n",
      "y_train shape: (1253,)\n",
      "y_test shape: (314,)\n",
      "스케일러 저장 완료\n"
     ]
    }
   ],
   "source": [
    "# 7. 데이터 저장\n",
    "\n",
    "# 디렉토리 생성\n",
    "if not os.path.exists('../processed_data'):\n",
    "    os.makedirs('../processed_data')\n",
    "    print(\"'processed_data' 디렉토리 생성\")\n",
    "\n",
    "# 데이터 저장(csv)\n",
    "X_train.to_csv('../processed_data/X_train.csv', index=False)\n",
    "X_test.to_csv('../processed_data/X_test.csv', index=False)\n",
    "y_train.to_csv('../processed_data/y_train.csv', index=False, header=['Pass/Fail'])\n",
    "y_test.to_csv('../processed_data/y_test.csv', index=False, header=['Pass/Fail'])\n",
    "print(\"\\n데이터 저장 완료\")\n",
    "print(f'X_train shape: {X_train.shape}')\n",
    "print(f'X_test shape: {X_test.shape}')\n",
    "print(f'y_train shape: {y_train.shape}')\n",
    "print(f'y_test shape: {y_test.shape}')\n",
    "\n",
    "# 스케일러 저장(pickle)\n",
    "with open('../processed_data/scaler.pkl', 'wb') as f:\n",
    "    pickle.dump(scaler, f)\n",
    "print(\"스케일러 저장 완료\")\n",
    "\n"
   ]
  },
  {
   "cell_type": "markdown",
   "id": "7b1cec7b",
   "metadata": {},
   "source": [
    "# 전처리 완료 요약\n",
    "\n",
    "## 입력\n",
    "- secom.csv (1567 × 592)\n",
    "\n",
    "## 처리\n",
    "1. 결측치 4.52% → 중앙값 대체\n",
    "2. 상수 특성 116개 제거\n",
    "3. StandardScaler 적용\n",
    "4. Train/Test 분리 (80:20, stratify)\n",
    "\n",
    "## 출력\n",
    "- Train: 1,253개 (불량 6.62%)\n",
    "- Test: 314개 (불량 6.69%)\n",
    "- 최종 특성: 474개"
   ]
  }
 ],
 "metadata": {
  "kernelspec": {
   "display_name": "base",
   "language": "python",
   "name": "python3"
  },
  "language_info": {
   "codemirror_mode": {
    "name": "ipython",
    "version": 3
   },
   "file_extension": ".py",
   "mimetype": "text/x-python",
   "name": "python",
   "nbconvert_exporter": "python",
   "pygments_lexer": "ipython3",
   "version": "3.13.5"
  }
 },
 "nbformat": 4,
 "nbformat_minor": 5
}
