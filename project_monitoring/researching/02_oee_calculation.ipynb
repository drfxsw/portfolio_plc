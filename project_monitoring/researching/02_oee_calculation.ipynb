{
 "cells": [
  {
   "cell_type": "code",
   "execution_count": 2,
   "id": "6d170b71",
   "metadata": {},
   "outputs": [
    {
     "name": "stdout",
     "output_type": "stream",
     "text": [
      "   샘플 수: 1,567개\n",
      "   기간: 2008-01-08 02:02:00 ~ 2008-12-10 18:47:00\n"
     ]
    }
   ],
   "source": [
    "import pandas as pd\n",
    "import numpy as np\n",
    "import matplotlib.pyplot as plt\n",
    "import seaborn as sns\n",
    "\n",
    "# 한글 폰트 설정\n",
    "plt.rcParams['font.family'] = 'Malgun Gothic'\n",
    "plt.rcParams['axes.unicode_minus'] = False\n",
    "\n",
    "# 1. 데이터 불러오기\n",
    "df = pd.read_csv('../../data/secom.csv')\n",
    "\n",
    "# Time 파싱\n",
    "df['Time'] = pd.to_datetime(df['Time'])\n",
    "df['Hour'] = df['Time'].dt.hour\n",
    "df['DayOfWeek'] = df['Time'].dt.dayofweek\n",
    "df['YearMonth'] = df['Time'].dt.to_period('M')\n",
    "\n",
    "target_col = 'Pass/Fail'\n",
    "\n",
    "print(f\"   샘플 수: {len(df):,}개\")\n",
    "print(f\"   기간: {df['Time'].min()} ~ {df['Time'].max()}\")"
   ]
  },
  {
   "cell_type": "code",
   "execution_count": 4,
   "id": "64b7d9a9",
   "metadata": {},
   "outputs": [
    {
     "name": "stdout",
     "output_type": "stream",
     "text": [
      "\n",
      "전체 양품률: 93.36%\n",
      "  정상: 1,463개 (93.4%)\n",
      "  불량: 104개 (6.6%)\n",
      "\n",
      "시간대별 양품률:\n",
      "----------------------------------------\n",
      " 0시: 95.38%\n",
      " 1시: 92.86%\n",
      " 2시: 95.00%\n",
      " 3시: 92.86%\n",
      " 4시: 90.77%\n",
      " 5시: 94.59%\n",
      " 6시: 91.94%\n",
      " 7시: 95.89%\n",
      " 8시: 95.31%\n",
      " 9시: 89.09%\n",
      "10시: 98.11%\n",
      "11시: 92.65%\n",
      "12시: 95.52%\n",
      "13시: 90.00%\n",
      "14시: 96.10%\n",
      "15시: 88.89%\n",
      "16시: 93.10%\n",
      "17시: 96.55%\n",
      "18시: 95.24%\n",
      "19시: 93.65%\n",
      "20시: 92.41%\n",
      "21시: 90.14%\n",
      "22시: 92.86%\n",
      "23시: 93.33%\n",
      "\n",
      "최고: 10시 (98.11%)\n",
      "최저: 15시 (88.89%)\n",
      "차이: 9.22%p\n"
     ]
    }
   ],
   "source": [
    "# 2. 양품률 계산\n",
    "\n",
    "# 전체 양품률\n",
    "total_defect_rate = (df[target_col] == 1).sum() / len(df)\n",
    "total_quality_rate = 1 - total_defect_rate\n",
    "\n",
    "print(f\"\\n전체 양품률: {total_quality_rate:.2%}\")\n",
    "print(f\"  정상: {(df[target_col] == -1).sum():,}개 ({(1-total_defect_rate):.1%})\")\n",
    "print(f\"  불량: {(df[target_col] == 1).sum():,}개 ({total_defect_rate:.1%})\")\n",
    "\n",
    "# 시간대별 양품률\n",
    "print(\"\\n시간대별 양품률:\")\n",
    "print(\"-\" * 40)\n",
    "\n",
    "hourly_quality = df.groupby('Hour')[target_col].apply(\n",
    "    lambda x: (x == -1).sum() / len(x)  # 정상(-1)의 비율\n",
    ")\n",
    "\n",
    "for hour, quality in hourly_quality.items():\n",
    "    print(f\"{hour:2d}시: {quality:.2%}\")\n",
    "\n",
    "# 최고/최저\n",
    "best_hour_q = hourly_quality.idxmax()\n",
    "worst_hour_q = hourly_quality.idxmin()\n",
    "print(f\"\\n최고: {best_hour_q}시 ({hourly_quality.max():.2%})\")\n",
    "print(f\"최저: {worst_hour_q}시 ({hourly_quality.min():.2%})\")\n",
    "print(f\"차이: {(hourly_quality.max() - hourly_quality.min()):.2%}p\")"
   ]
  },
  {
   "cell_type": "code",
   "execution_count": null,
   "id": "f57f2129",
   "metadata": {},
   "outputs": [
    {
     "name": "stdout",
     "output_type": "stream",
     "text": [
      "시간대별 데이터:\n",
      " 0시:  65개 ( 4.1%)\n",
      " 1시:  42개 ( 2.7%)\n",
      " 2시:  60개 ( 3.8%)\n",
      " 3시:  70개 ( 4.5%)\n",
      " 4시:  65개 ( 4.1%)\n",
      " 5시:  74개 ( 4.7%)\n",
      " 6시:  62개 ( 4.0%)\n",
      " 7시:  73개 ( 4.7%)\n",
      " 8시:  64개 ( 4.1%)\n",
      " 9시:  55개 ( 3.5%)\n",
      "10시:  53개 ( 3.4%)\n",
      "11시:  68개 ( 4.3%)\n",
      "12시:  67개 ( 4.3%)\n",
      "13시:  50개 ( 3.2%)\n",
      "14시:  77개 ( 4.9%)\n",
      "15시:  99개 ( 6.3%)\n",
      "16시:  58개 ( 3.7%)\n",
      "17시:  58개 ( 3.7%)\n",
      "18시:  63개 ( 4.0%)\n",
      "19시:  63개 ( 4.0%)\n",
      "20시:  79개 ( 5.0%)\n",
      "21시:  71개 ( 4.5%)\n",
      "22시:  56개 ( 3.6%)\n",
      "23시:  75개 ( 4.8%)\n",
      "  → 데이터 커버리지: 19.0%\n"
     ]
    }
   ],
   "source": [
    "# 3. 가동률 계산\n",
    "# 가동률 = (전체 시간 - 가동 중단 시간) / 전체 시간\n",
    "# 가동 중단: 데이터가 기록되지 않은 시간\n",
    "\n",
    "# 시간대별 샘플 수\n",
    "hourly_counts = df.groupby('Hour').size()\n",
    "print(f\"시간대별 데이터:\")\n",
    "for hour, count in hourly_counts.items():\n",
    "    pct = count / len(df) * 100\n",
    "    print(f\"{hour:2d}시: {count:3d}개 ({pct:4.1f}%)\")\n",
    "\n",
    "data_coverage = len(df['Time'].unique()) / ((df['Time'].max() - df['Time'].min()).days * 24)\n",
    "print(f\"  → 데이터 커버리지: {data_coverage:.1%}\")\n",
    "\n",
    "# 결론: 가동률 85% 가정 (실제 정지시간 데이터 없어 업계 평균 사용)\n",
    "# -> 더 정확한 계산 위해서는 설비 로그 데이터 필요 (현재 데이터는 샘플링데이터 이므로 신뢰도 낮음)"
   ]
  },
  {
   "cell_type": "code",
   "execution_count": null,
   "id": "496e971a",
   "metadata": {},
   "outputs": [],
   "source": []
  }
 ],
 "metadata": {
  "kernelspec": {
   "display_name": "base",
   "language": "python",
   "name": "python3"
  },
  "language_info": {
   "codemirror_mode": {
    "name": "ipython",
    "version": 3
   },
   "file_extension": ".py",
   "mimetype": "text/x-python",
   "name": "python",
   "nbconvert_exporter": "python",
   "pygments_lexer": "ipython3",
   "version": "3.13.5"
  }
 },
 "nbformat": 4,
 "nbformat_minor": 5
}
